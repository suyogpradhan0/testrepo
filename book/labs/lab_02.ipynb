{
  "cells": [
    {
      "cell_type": "markdown",
      "metadata": {
        "id": "view-in-github",
        "colab_type": "text"
      },
      "source": [
        "<a href=\"https://colab.research.google.com/github/suyogpradhan0/testrepo/blob/main/book/labs/lab_02.ipynb\" target=\"_parent\"><img src=\"https://colab.research.google.com/assets/colab-badge.svg\" alt=\"Open In Colab\"/></a>"
      ]
    },
    {
      "cell_type": "markdown",
      "metadata": {
        "id": "T4XvDOr5rxbj"
      },
      "source": [
        "# Lab 2\n",
        "\n",
        "\n",
        "[![Open In Colab](https://colab.research.google.com/assets/colab-badge.svg)](https://colab.research.google.com/github/giswqs/geog-414/blob/master/book/labs/lab_02.ipynb)\n",
        "\n",
        "## Submission requirements\n",
        "\n",
        "1. Upload a screenshot of your map for each question.\n",
        "2. Provide a link to your notebook on Colab. See instructions [here](https://geog-414.gishub.org/book/labs/instructions.html).\n",
        "\n",
        "## Question 1\n",
        "\n",
        "Use [geemap](https://geemap.org) to create a map similar to the one below. You can use similar source code used in [Lab 1](https://geog-414.gishub.org/book/labs/lab_01.html), but make sure you change leafmap to geemap. Try out different basemaps. Change the text `Made by Your Name` to your name. Update the [geemap logo](https://i.imgur.com/7nu5GNl.png) to your own image if you wish. Then run the code cell to generate an interactive map. Note that you name must be visible on the map. Take a screenshot of your map and save it as an image. Upload the screenshot to Canvas. In addition, submit the link to your Colab notebook on Canvas. Make sure you set the sharing permission of your Colab notebook to anyone with the link can view."
      ],
      "id": "T4XvDOr5rxbj"
    },
    {
      "cell_type": "code",
      "source": [
        "import ee\n",
        "import geemap\n",
        "ee.Initialize()\n",
        "#Create an interactive map\n",
        "m = geemap.Map(center=[20,0], zoom=2, height='600px')\n",
        "#Add basemap\n",
        "m.add_basemap(\"CartoDB.DarkMatter\")\n",
        "#Add text to the map\n",
        "text = \"Made by Suyog Pradhan\"\n",
        "m.add_text(text, fontsize=20, position='bottomright')\n",
        "#Add a logo to the map\n",
        "logo = 'https://media.licdn.com/dms/image/C4E03AQG81lNiaV7TVw/profile-displayphoto-shrink_400_400/0/1584003272381?e=1712188800&v=beta&t=T2u6VMiiirzlVl9x0tZ3hK8-zXSVtsDILW6xDvf6V_U'\n",
        "m.add_image(logo, position='bottomright')\n",
        "#Add GeoJSON data to the map\n",
        "cables = 'https://open.gishub.org/data/vector/cables.geojson'\n",
        "callback = lambda feat:{'color':feat[\"properties\"][\"color\"],\"weight\":1}\n",
        "m.add_geojson(cables, layer_name=\"Cable lines\", style_callback=callback)\n",
        "#Display the map\n",
        "m"
      ],
      "metadata": {
        "id": "X0CmgEWQ2a2O"
      },
      "id": "X0CmgEWQ2a2O",
      "execution_count": null,
      "outputs": []
    },
    {
      "cell_type": "markdown",
      "metadata": {
        "id": "hcWt3xolrxbq"
      },
      "source": [
        "![](https://i.imgur.com/ZuyH2D8.png)"
      ],
      "id": "hcWt3xolrxbq"
    },
    {
      "cell_type": "code",
      "source": [],
      "metadata": {
        "id": "awQGA6Yr2Y0n"
      },
      "id": "awQGA6Yr2Y0n",
      "execution_count": null,
      "outputs": []
    }
  ],
  "metadata": {
    "kernelspec": {
      "display_name": "Python 3",
      "language": "python",
      "name": "python3"
    },
    "language_info": {
      "codemirror_mode": {
        "name": "ipython",
        "version": 3
      },
      "file_extension": ".py",
      "mimetype": "text/x-python",
      "name": "python",
      "nbconvert_exporter": "python",
      "pygments_lexer": "ipython3",
      "version": "3.11.6"
    },
    "colab": {
      "provenance": [],
      "include_colab_link": true
    }
  },
  "nbformat": 4,
  "nbformat_minor": 5
}